{
 "cells": [
  {
   "cell_type": "code",
   "execution_count": 16,
   "id": "3f9cadfd",
   "metadata": {},
   "outputs": [
    {
     "data": {
      "text/plain": [
       "Index(['id', 'name', 'host_id', 'host_name', 'neighbourhood_group',\n",
       "       'neighbourhood', 'latitude', 'longitude', 'room_type', 'price',\n",
       "       'minimum_nights', 'number_of_reviews', 'last_review',\n",
       "       'reviews_per_month', 'calculated_host_listings_count',\n",
       "       'availability_365'],\n",
       "      dtype='object')"
      ]
     },
     "execution_count": 16,
     "metadata": {},
     "output_type": "execute_result"
    }
   ],
   "source": [
    "import pandas as pd\n",
    "import csv\n",
    "import seaborn as sns\n",
    "\n",
    "#This CSV lists AirBNB's in NYC and various things about each Airbnb duch as reviews, neighborhood, and minimum nights\n",
    "#It could be used to narrow down a list of Airbnb's that are just right for you. For example, if you are on a budget,\n",
    "#then you could use the price column to find the price right for you. Or if you are conducting a survey of what neighborhoods\n",
    "#have the most Airbnb's then you could use the neighborhood column.\n",
    "\n",
    "df = pd.read_csv(\"ABNYC.csv\")\n",
    "\n",
    "collist = df.columns\n",
    "sns.heatmap(df[collist].isnull())\n",
    "\n",
    "df[\"last_review\"] = df[\"last_review\"].fillna(\"last review not specified\")\n",
    "df[\"reviews_per_month\"] = df[\"reviews_per_month\"].fillna(\"reviews per month not specified\")\n",
    "\n",
    "sns.heatmap(df[collist].isnull())\n",
    "df.columns\n"
   ]
  },
  {
   "cell_type": "code",
   "execution_count": 17,
   "id": "7d9e4686",
   "metadata": {},
   "outputs": [
    {
     "data": {
      "text/html": [
       "<div>\n",
       "<style scoped>\n",
       "    .dataframe tbody tr th:only-of-type {\n",
       "        vertical-align: middle;\n",
       "    }\n",
       "\n",
       "    .dataframe tbody tr th {\n",
       "        vertical-align: top;\n",
       "    }\n",
       "\n",
       "    .dataframe thead th {\n",
       "        text-align: right;\n",
       "    }\n",
       "</style>\n",
       "<table border=\"1\" class=\"dataframe\">\n",
       "  <thead>\n",
       "    <tr style=\"text-align: right;\">\n",
       "      <th></th>\n",
       "      <th>last_review</th>\n",
       "    </tr>\n",
       "  </thead>\n",
       "  <tbody>\n",
       "    <tr>\n",
       "      <th>0</th>\n",
       "      <td>2018-10-19</td>\n",
       "    </tr>\n",
       "    <tr>\n",
       "      <th>1</th>\n",
       "      <td>2019-05-21</td>\n",
       "    </tr>\n",
       "    <tr>\n",
       "      <th>2</th>\n",
       "      <td>NaN</td>\n",
       "    </tr>\n",
       "    <tr>\n",
       "      <th>3</th>\n",
       "      <td>2019-07-05</td>\n",
       "    </tr>\n",
       "    <tr>\n",
       "      <th>4</th>\n",
       "      <td>2018-11-19</td>\n",
       "    </tr>\n",
       "    <tr>\n",
       "      <th>...</th>\n",
       "      <td>...</td>\n",
       "    </tr>\n",
       "    <tr>\n",
       "      <th>48890</th>\n",
       "      <td>NaN</td>\n",
       "    </tr>\n",
       "    <tr>\n",
       "      <th>48891</th>\n",
       "      <td>NaN</td>\n",
       "    </tr>\n",
       "    <tr>\n",
       "      <th>48892</th>\n",
       "      <td>NaN</td>\n",
       "    </tr>\n",
       "    <tr>\n",
       "      <th>48893</th>\n",
       "      <td>NaN</td>\n",
       "    </tr>\n",
       "    <tr>\n",
       "      <th>48894</th>\n",
       "      <td>NaN</td>\n",
       "    </tr>\n",
       "  </tbody>\n",
       "</table>\n",
       "<p>48895 rows × 1 columns</p>\n",
       "</div>"
      ],
      "text/plain": [
       "      last_review\n",
       "0      2018-10-19\n",
       "1      2019-05-21\n",
       "2             NaN\n",
       "3      2019-07-05\n",
       "4      2018-11-19\n",
       "...           ...\n",
       "48890         NaN\n",
       "48891         NaN\n",
       "48892         NaN\n",
       "48893         NaN\n",
       "48894         NaN\n",
       "\n",
       "[48895 rows x 1 columns]"
      ]
     },
     "execution_count": 17,
     "metadata": {},
     "output_type": "execute_result"
    }
   ],
   "source": [
    "df = pd.read_csv(\"ABNYC.csv\")\n",
    "\n",
    "df_2 = df.copy()\n",
    "df_2.drop(labels = [\"id\", \"name\", \"host_id\", \"host_name\", \"neighbourhood_group\", \"neighbourhood\", \"latitude\", \"longitude\", \"room_type\", \"price\", \"minimum_nights\", \"number_of_reviews\", \"reviews_per_month\", \"calculated_host_listings_count\", \"availability_365\"], axis=1, inplace=True)\n",
    "df_2"
   ]
  },
  {
   "cell_type": "code",
   "execution_count": 20,
   "id": "b8e938b3",
   "metadata": {},
   "outputs": [
    {
     "name": "stdout",
     "output_type": "stream",
     "text": [
      "{'Kensington': 175, 'Midtown': 1545, 'Harlem': 2658, 'Clinton Hill': 572, 'East Harlem': 1117, 'Murray Hill': 485, 'Bedford-Stuyvesant': 3714, \"Hell's Kitchen\": 1958, 'Upper West Side': 1971, 'Chinatown': 368, 'South Slope': 284, 'West Village': 768, 'Williamsburg': 3920, 'Fort Greene': 489, 'Chelsea': 1113, 'Crown Heights': 1564, 'Park Slope': 506, 'Windsor Terrace': 157, 'Inwood': 252, 'East Village': 1853, 'Greenpoint': 1115, 'Bushwick': 2465, 'Flatbush': 621, 'Lower East Side': 911, 'Prospect-Lefferts Gardens': 535, 'Long Island City': 537, 'Kips Bay': 470, 'SoHo': 358, 'Upper East Side': 1798, 'Prospect Heights': 357, 'Washington Heights': 899, 'Woodside': 235, 'Brooklyn Heights': 154, 'Carroll Gardens': 233, 'Gowanus': 247, 'Flatlands': 83, 'Cobble Hill': 99, 'Flushing': 426, 'Boerum Hill': 177, 'Sunnyside': 363, 'DUMBO': 36, 'St. George': 48, 'Highbridge': 27, 'Financial District': 744, 'Ridgewood': 423, 'Morningside Heights': 346, 'Jamaica': 231, 'Middle Village': 31, 'NoHo': 78, 'Ditmars Steinway': 309, 'Flatiron District': 80, 'Roosevelt Island': 77, 'Greenwich Village': 392, 'Little Italy': 121, 'East Flatbush': 500, 'Tompkinsville': 42, 'Astoria': 900, 'Clason Point': 21, 'Eastchester': 13, 'Kingsbridge': 70, 'Two Bridges': 72, 'Queens Village': 60, 'Rockaway Beach': 56, 'Forest Hills': 144, 'Nolita': 253, 'Woodlawn': 11, 'University Heights': 21, 'Gravesend': 68, 'Gramercy': 338, 'Allerton': 42, 'East New York': 218, 'Theater District': 288, 'Concourse Village': 32, 'Sheepshead Bay': 164, 'Emerson Hill': 5, 'Fort Hamilton': 55, 'Bensonhurst': 75, 'Tribeca': 177, 'Shore Acres': 7, 'Sunset Park': 390, 'Concourse': 50, 'Elmhurst': 237, 'Brighton Beach': 75, 'Jackson Heights': 186, 'Cypress Hills': 135, 'St. Albans': 76, 'Arrochar': 21, 'Rego Park': 106, 'Wakefield': 50, 'Clifton': 15, 'Bay Ridge': 141, 'Graniteville': 3, 'Spuyten Duyvil': 4, 'Stapleton': 27, 'Briarwood': 56, 'Ozone Park': 62, 'Columbia St': 42, 'Vinegar Hill': 34, 'Mott Haven': 60, 'Longwood': 62, 'Canarsie': 147, 'Battery Park City': 70, 'Civic Center': 52, 'East Elmhurst': 185, 'New Springville': 8, 'Morris Heights': 17, 'Arverne': 77, 'Cambria Heights': 26, 'Tottenville': 7, 'Mariners Harbor': 8, 'Concord': 26, 'Borough Park': 136, 'Bayside': 39, 'Downtown Brooklyn': 83, 'Port Morris': 46, 'Fieldston': 12, 'Kew Gardens': 32, 'Midwood': 109, 'College Point': 19, 'Mount Eden': 6, 'City Island': 18, 'Glendale': 54, 'Port Richmond': 9, 'Red Hook': 79, 'Richmond Hill': 94, 'Bellerose': 14, 'Maspeth': 110, 'Williamsbridge': 40, 'Soundview': 15, 'Woodhaven': 88, 'Woodrow': 1, 'Co-op City': 2, 'Stuyvesant Town': 37, 'Parkchester': 39, 'North Riverdale': 10, 'Dyker Heights': 12, 'Bronxdale': 19, 'Sea Gate': 7, 'Riverdale': 11, 'Kew Gardens Hills': 26, 'Bay Terrace': 6, 'Norwood': 31, 'Claremont Village': 28, 'Whitestone': 11, 'Fordham': 63, 'Bayswater': 17, 'Navy Yard': 14, 'Brownsville': 61, 'Eltingville': 3, 'Fresh Meadows': 32, 'Mount Hope': 20, 'Lighthouse Hill': 2, 'Springfield Gardens': 85, 'Howard Beach': 20, 'Belle Harbor': 8, 'Jamaica Estates': 19, 'Van Nest': 11, 'Morris Park': 15, 'West Brighton': 18, 'Far Rockaway': 29, 'South Ozone Park': 40, 'Tremont': 11, 'Corona': 64, 'Great Kills': 10, 'Manhattan Beach': 8, 'Marble Hill': 12, 'Dongan Hills': 7, 'Castleton Corners': 4, 'East Morrisania': 10, 'Hunts Point': 18, 'Neponsit': 3, 'Pelham Bay': 17, 'Randall Manor': 19, 'Throgs Neck': 24, 'Todt Hill': 4, 'West Farms': 2, 'Silver Lake': 2, 'Morrisania': 18, 'Laurelton': 18, 'Grymes Hill': 7, 'Holliswood': 4, 'Pelham Gardens': 28, 'Belmont': 24, 'Rosedale': 59, 'Edgemere': 11, 'New Brighton': 5, 'Midland Beach': 6, 'Baychester': 7, 'Melrose': 10, 'Bergen Beach': 10, 'Richmondtown': 1, 'Howland Hook': 2, 'Schuylerville': 13, 'Coney Island': 17, 'New Dorp Beach': 5, \"Prince's Bay\": 4, 'South Beach': 8, 'Bath Beach': 17, 'Jamaica Hills': 8, 'Oakwood': 5, 'Castle Hill': 9, 'Hollis': 14, 'Douglaston': 8, 'Huguenot': 3, 'Olinville': 4, 'Edenwald': 13, 'Grant City': 6, 'Westerleigh': 2, 'Bay Terrace, Staten Island': 2, 'Westchester Square': 10, 'Little Neck': 5, 'Fort Wadsworth': 1, 'Rosebank': 7, 'Unionport': 7, 'Mill Basin': 4, 'Arden Heights': 4, \"Bull's Head\": 6, 'New Dorp': 1, 'Rossville': 1, 'Breezy Point': 3, 'Willowbrook': 1}\n"
     ]
    }
   ],
   "source": [
    "df = pd.read_csv(\"ABNYC.csv\")\n",
    "\n",
    "df_3 = df.copy()\n",
    "df_3.drop(labels = [\"id\", \"name\", \"host_id\", \"host_name\", \"neighbourhood_group\", \"latitude\", \"longitude\", \"room_type\", \"price\", \"minimum_nights\", \"number_of_reviews\", \"last_review\", \"reviews_per_month\", \"calculated_host_listings_count\", \"availability_365\"], axis=1, inplace=True)\n",
    "\n",
    "airbnb = df_3[\"neighbourhood\"]\n",
    "airbnb_dict = {}\n",
    "\n",
    "for i in airbnb:\n",
    "    if i not in airbnb_dict:\n",
    "        airbnb_dict[i] =1\n",
    "    else:\n",
    "        airbnb_dict[i] += 1\n",
    "\n",
    "print(airbnb_dict)"
   ]
  },
  {
   "cell_type": "code",
   "execution_count": null,
   "id": "93a1fd4b",
   "metadata": {},
   "outputs": [],
   "source": []
  }
 ],
 "metadata": {
  "kernelspec": {
   "display_name": "Python 3 (ipykernel)",
   "language": "python",
   "name": "python3"
  },
  "language_info": {
   "codemirror_mode": {
    "name": "ipython",
    "version": 3
   },
   "file_extension": ".py",
   "mimetype": "text/x-python",
   "name": "python",
   "nbconvert_exporter": "python",
   "pygments_lexer": "ipython3",
   "version": "3.9.13"
  }
 },
 "nbformat": 4,
 "nbformat_minor": 5
}
